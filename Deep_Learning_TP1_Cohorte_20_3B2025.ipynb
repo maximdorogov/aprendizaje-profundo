{
  "cells": [
    {
      "cell_type": "markdown",
      "metadata": {
        "id": "tHbzg4F1fLo7"
      },
      "source": [
        "# Universidad de Buenos Aires\n",
        "# Aprendizaje Profundo - TP1\n",
        "# Cohorte 20 - 3er bimestre 2025\n"
      ]
    },
    {
      "cell_type": "markdown",
      "metadata": {
        "id": "PEib4WVwfQYr"
      },
      "source": [
        "Este primer TP comienza la semana de la clase 2 y la ventana de entrega estará abierta hasta las **23hs del jueves 31 de julio (hora de Argentina)**. La resolución del TP es **individual**. Pueden utilizar los contenidos vistos en clase y otra bibliografía. Si se toman ideas de fuentes externas deben ser correctamente citadas incluyendo el correspondiente link o página de libro.\n",
        "\n",
        "ESTE TP1 EQUIVALE AL 60% DE SU NOTA FINAL.\n",
        "\n",
        "El formato de entrega debe ser un link a un notebook de google colab. Permitir acceso a gvilcamiza.ext@fi.uba.ar y **habilitar los comentarios, para poder darles el feedback**. Si no lo hacen así no se podrá dar el feedback respectivo por cada pregunta.\n",
        "\n",
        "El envío **se realizará en el siguiente link de google forms: [link](https://forms.gle/2UKBgNLjBZZ5XCeH9)**. Tanto los resultados, gráficas, como el código y las explicaciones deben quedar guardados y visualizables en el colab.\n",
        "\n",
        "**NO SE VALIDARÁN ENVÍOS POR CORREO, EL MÉTODO DE ENTREGA ES SOLO POR EL FORMS.**\n",
        "\n",
        "**Consideraciones a tener en cuenta:**\n",
        "- Se entregará 1 solo colab para este TP1.\n",
        "- Renombrar el archivo de la siguiente manera: **APELLIDO-NOMBRE-DL-TP1-Co20.ipynb**\n",
        "- Los códigos deben poder ejecutarse.\n",
        "- Los resultados, cómo el código, los gráficos y las explicaciones deben quedar guardados y visualizables en el correspondiente notebook.\n",
        "- Prestar atención a las consignas, responder las preguntas cuando corresponda.\n",
        "- Solo se revisarán los trabajos que hayan sido enviados por el forms."
      ]
    },
    {
      "cell_type": "markdown",
      "metadata": {
        "id": "bdseNqG3m7xX"
      },
      "source": [
        "# **PREGUNTA 1**"
      ]
    },
    {
      "cell_type": "markdown",
      "metadata": {
        "id": "2gZB6LL8nY3p"
      },
      "source": [
        "## **Comparación de Gradiente Descendente y Adam en una Función de Costo No Convexa**\n",
        "\n",
        "En este ejercicio se compararán los optimizadores Gradiente Descendente (GD) y Adam en la minimización de una función de costo basada en una red neuronal de una sola neurona:\n",
        "$$\n",
        "z = w x + b\n",
        "$$\n",
        "Con función de activación tangente hiperbólica:\n",
        "\n",
        "$$\n",
        "\\hat{y} = \\tanh(z) = \\tanh(w x + b)\n",
        "$$\n",
        "\n",
        "\\\\\n",
        "\n",
        "Se analizará la trayectoria de aprendizaje de ambos algoritmos y se evaluará su eficiencia con diferentes tasas de aprendizaje (learning rate).\n",
        "\n",
        "\\\\\n",
        "\n",
        "La función de costo utilizada es el Error Cuadrático Medio (MSE):\n",
        "\n",
        "$$\n",
        "J(w, b) = \\frac{1}{m} \\sum_{i=1}^{m} (\\hat{y}_i - y_i)^2\n",
        "$$\n",
        "\n",
        "$$\n",
        "J(w, b) = \\frac{1}{m} \\sum_{i=1}^{m} ( \\tanh(w x_i + b) - y_i )^2\n",
        "$$\n",
        "\n",
        "donde \\\\( w \\\\) y \\\\( b \\\\) son los parámetros a optimizar.\n",
        "\n",
        "\\\\\n",
        "\n",
        "Si bien es cierto, en estos experimentos estamos comparando optimizadores (GD vs Adam), y no entrenando un modelo como tal, de igual forma se necesitará una especie de dataset. Este será sintético y solo de prueba, por ende tendrán cierta libertad para elegir sus valores. Sin embargo deberán tomar en cuenta que cumpla la siguiente estructura:\n",
        "\n",
        "`x = np.linspace(ini, fin, n)`\n",
        "\n",
        "donde `x` es un array de una sola dimensión y con `n` cantidad de valores. Y tiene un rango de valores desde `ini` hasta `fin`. Recomiendo que sea simétrico, es decir, los mismos valores solo que con el signo cambiado, por ejemplo `ini=-3, fin=3`.\n",
        "\n",
        "\\\\\n",
        "\n",
        "Y con un target `y`:\n",
        "\n",
        "`y = funcion_no_lineal(x) + ruido`\n",
        "\n",
        "donde `y` es también un vector de una sola dimensión de tamaño `n` que sigue un patrón no lineal con respecto a `x` adicionando un ruido que puede ser creado con algunas de las funciones del paquete `np.random`.\n"
      ]
    },
    {
      "cell_type": "markdown",
      "metadata": {
        "id": "Tisjrq4koqV2"
      },
      "source": [
        "### 1a) Implementación del Gradiente Descendente (1 punto)\n",
        "- Implementar el algoritmo del Gradiente Descendente (GD) para minimizar \\\\( J(w, b) \\\\).\n",
        "- Utilizar 100 épocas y 3 diferentes learning rates `(0.1, 0.01, 0.001)`.\n",
        "- Inicializar valores de \\\\( w \\\\) y \\\\( b \\\\) de manera aleatoria con `np.random.randn()` para cada learning rate.\n",
        "- Graficar la función de Costo \\\\( J(w, b) \\\\) VS número de época\n",
        "\n",
        "\\\\\n",
        "\n",
        "El optimizador del Gradiente Descendente se debe implementar haciendo el código desde cero y paso a paso. Se pueden usar librerías como `numpy`, `scipy`, `matplotlib` o similares. Pero no está permitido usar Pytorch ni TensorFlow o frameworks que ya contengan el optimizador desarrollado."
      ]
    },
    {
      "cell_type": "code",
      "execution_count": 56,
      "metadata": {},
      "outputs": [],
      "source": [
        "from typing import Callable, Literal, Optional\n",
        "import numpy as np\n",
        "from matplotlib import pyplot as plt"
      ]
    },
    {
      "cell_type": "code",
      "execution_count": null,
      "metadata": {},
      "outputs": [],
      "source": [
        "class SimplePerceptron:\n",
        "    \"\"\"\n",
        "    A simple implementation of a single neuron perceptron. With parametrizable\n",
        "    input and one output.\n",
        "    \"\"\"\n",
        "    def __init__(\n",
        "        self, \n",
        "        input_size: int, \n",
        "        activation_fun: Callable\n",
        "    ):\n",
        "        \"\"\"\n",
        "        Init method for the perceptron.\n",
        "\n",
        "        Parameters\n",
        "        ----------\n",
        "        input_size: int \n",
        "            Number of inputs to the perceptron.\n",
        "        learning_rate: float\n",
        "            Learning rate for the perceptron.\n",
        "        activation_fun: Callable\n",
        "            Activation function to be used in the output.\n",
        "        \"\"\"\n",
        "        self.weights = np.random.rand(input_size)\n",
        "        self.bias = np.random.rand(1)\n",
        "        self._lr: float = None\n",
        "        self._activation_fun = activation_fun\n",
        "\n",
        "    def train(\n",
        "        self, \n",
        "        inputs: np.ndarray, \n",
        "        targets: np.ndarray,\n",
        "        lr: float,\n",
        "        optim: Optional[Literal['adam']] = None):\n",
        "        \"\"\"\n",
        "        Trains the perceptron using the provided inputs and targets.\n",
        "\n",
        "        Parameters\n",
        "        ----------\n",
        "        inputs: np.ndarray\n",
        "            Input data to perform the forward pass.\n",
        "        targets: np.ndarray\n",
        "            Target output.\n",
        "        lr: float\n",
        "            Learning rate for the training.\n",
        "        optim: Optional[Literal['adam']]\n",
        "            Optimization algorithm to be used. Currently only adam is supported.\n",
        "            If None, no optimization is applied and the perceptron will use a\n",
        "            gradient descent update.\n",
        "        \n",
        "        Mutates\n",
        "        -------\n",
        "        self.weights: np.ndarray\n",
        "            Updates the weights of the perceptron.\n",
        "        self.bias: float\n",
        "            Updates the bias of the perceptron.\n",
        "        \"\"\"\n",
        "        pass\n",
        "\n",
        "\n",
        "    def predict(self, inputs: list) -> float:\n",
        "        \"\"\"\n",
        "        Performs a forward pass through the perceptron.\n",
        "        \n",
        "        Parameters\n",
        "        ----------\n",
        "        inputs: np.ndarray\n",
        "            Input data to the perceptron.\n",
        "        Returns\n",
        "        -------\n",
        "        float\n",
        "            Output of the perceptron after applying the activation function.\n",
        "        \"\"\"\n",
        "        z = sum(w * i for w, i in zip(self.weights, inputs)) + self.bias\n",
        "        return self._activation_fun(z)"
      ]
    },
    {
      "cell_type": "markdown",
      "metadata": {},
      "source": [
        "Genero data de entrada y salida"
      ]
    },
    {
      "cell_type": "code",
      "execution_count": 57,
      "metadata": {},
      "outputs": [
        {
          "data": {
            "image/png": "[encoded data removed]",
            "text/plain": [
              "<Figure size 1000x500 with 1 Axes>"
            ]
          },
          "metadata": {},
          "output_type": "display_data"
        }
      ],
      "source": [
        "# for reproducibility\n",
        "np.random.seed(42)\n",
        "\n",
        "n_samples = 100\n",
        "input = np.linspace(-1, 1, n_samples)\n",
        "target = np.tanh(np.sin(input) ** -1) + 0.2 * np.random.rand(len(input))\n",
        "\n",
        "plt.figure(figsize=(10, 5))\n",
        "plt.plot(input, target, color='blue', marker='o', linestyle='None')\n",
        "plt.title('Plot of tanh(sin(x))')\n",
        "plt.xlabel('Input')\n",
        "plt.ylabel('Output')\n",
        "plt.title('')\n",
        "plt.grid()\n",
        "plt.show()\n"
      ]
    },
    {
      "cell_type": "code",
      "execution_count": null,
      "metadata": {},
      "outputs": [],
      "source": [
        "epochs = 100\n",
        "l_rates = [0.1, 0.01, 0.001]\n",
        "\n",
        "mlp = SimplePerceptron(input_size=1, activation_fun=np.tanh)\n",
        "\n",
        "for lr in l_rates:\n",
        "    pass"
      ]
    },
    {
      "cell_type": "markdown",
      "metadata": {
        "id": "BJnTd5HurMKM"
      },
      "source": [
        "### 1b) Implementación de Adam (1 punto)  \n",
        "- Implementar el algoritmo de Adam para minimizar \\\\( J(w, b) \\\\).  \n",
        "- Utilizar 100 épocas y 3 diferentes learning rates `(0.1, 0.01, 0.001)`.\n",
        "- Utilizar los mismos valores de \\\\( w \\\\) y \\\\( b \\\\) que se usaron para GD para cada diferente learning rate.\n",
        "- Graficar la función de Costo \\\\( J(w, b) \\\\) VS número de época\n",
        "- Hacer 2 modelos, uno sin mini-batch (full-batch) y otro con mini-batch (batch size a elección de ustedes).\n",
        "\n",
        "\\\\\n",
        "\n",
        "Al igual que para GD, el optimizador Adam también se debe implementar desde cero y paso a paso. Se pueden usar librerías como `numpy`, `scipy`, `matplotlib` o similares. Pero no está permitido usar Pytorch ni TensorFlow o frameworks que ya contengan el optimizador desarrollado."
      ]
    },
    {
      "cell_type": "markdown",
      "metadata": {
        "id": "nD37r43DWg4g"
      },
      "source": [
        "### 1c) Comparativa de optimizadores (0.5 puntos)  \n",
        "- Comparar el resultado y rendimiento de GD VS Adam (full-batch) VS Adam (mini-batch) para cada uno de los learning rates.\n",
        "- Redactar conclusiones analíticas que resalten las diferencias entre cada optimizador."
      ]
    },
    {
      "cell_type": "markdown",
      "metadata": {
        "id": "SjvhTH_ZrWAX"
      },
      "source": [
        "### 1d) Visualización en 3D de la trayectoria de aprendizaje (0.5 puntos)\n",
        "- Graficar en 3D la trayectoria del aprendizaje de los 3 optimizadores sobre la superficie de la función de costo \\\\( J(w, b) \\\\). Se debe elegir un solo learning rate.\n",
        "- Comparar y redactar cómo se mueven en el espacio de parámetros y qué diferencias existen en la convergencia.\n",
        "- Recomiendo utilizar `mpl_toolkits.mplot3d` y `np.meshgrid`, pero queda a su criterio la elección de funciones a usar para lograr el gráfico."
      ]
    },
    {
      "cell_type": "markdown",
      "metadata": {
        "id": "BZW4D_PyWq_T"
      },
      "source": [
        "# **PREGUNTA 2**"
      ]
    },
    {
      "cell_type": "markdown",
      "metadata": {
        "id": "CKl9cz2BWuUF"
      },
      "source": [
        "Descargar el dataset del siguiente link: https://drive.google.com/file/d/147YyKAiQhJhZV9tHAkrgcTzvRgmwB-OX/view?usp=sharing.\n",
        "\n",
        "El dataset consiste en compras de productos que diferentes clientes realizaron durante un black sales. El dataset contiene información sobre las transacciones, compuestas por un cliente y el producto que adquirió.\n"
      ]
    },
    {
      "cell_type": "markdown",
      "metadata": {
        "id": "ra5HodW2ir2i"
      },
      "source": [
        "### 2a) EDA y preparación del dataset (2.5 puntos)\n",
        "Realizar el análisis exploratorio del dataset (EDA) con las herramientas vistas en materias anteriores. Pre-procesar y transformar las variables que sean necesarias, analizar qué columnas se deben dropear, cuáles vale la pena hacer un tratamiento de valores nulos, si se debe usar label encoding, one-hot encoding o mapping encoding, explicar los criterios utilizados y analizar las distribuciones.\n",
        "\n",
        "Vamos a tratar este problema como una clasificación donde queremos averiguar si el cliente pertenece a un segmento: \"Casual\" (gasta menos de 3000), \"Gama media\" (gasta entre 3000 y 8000), \"Gama alta\" (gasta entre 8000 y 18000) o a \"Premium\" (gasta más de 18000), según el producto que adquirió.\n",
        "\n",
        "Redactar las conclusiones preliminares que pueden notar de las columnas y justificar el porqué de cada encoding aplicado.\n",
        "\n",
        "**IMPORTANTE: Luego de asignar los segmentos, no se olviden de eliminar la columna \"Purchase\".**"
      ]
    },
    {
      "cell_type": "markdown",
      "metadata": {
        "id": "4QCKMGGmlCA4"
      },
      "source": [
        "### 2b) Modelo de deep leaning sin embeddings (1.5 puntos)\n",
        "Entrenar un modelo de deep learning usando Pytorch que no utilice embeddings, **descartando el `product_id` y `user_id`**. Graficar las evoluciones por época de la función de costo y de métricas como el accuracy y el f1 score para train y validation. Mostrar una matriz de confusión absoluta y otra normalizada por fila. Explicar el proceso de iteracion utilizado para conseguir los resultados y justificar los resultados obtenidos.\n",
        "\n",
        "Pueden usarse herramientas de regularización y prueba de hiperpametros para conseguir mejores resultados.\n",
        "\n",
        "Un resultado aceptable sería al menos un 77% de accuracy y f1 score para el set de validation."
      ]
    },
    {
      "cell_type": "markdown",
      "metadata": {
        "id": "UrWOf4z-lakA"
      },
      "source": [
        "### 2c) Modelo de deep leaning con embeddings (2 puntos)\n",
        "Entrenar un modelo de deep learning usando Pytorch que utilice **2 capas de embeddings**, una para los productos y otra para los usuarios. Graficar las evoluciones por época de la función de costo y de métricas como el accuracy y el f1 score para train y test. Mostrar una matriz de confusión absoluta y otra normalizada por fila. Explicar el proceso de iteracion utilizado para conseguir los resultados y justificar los resultados obtenidos. Justificar la cantidad de dimensiones usada para los embeddings. **Comparar contra el modelo sin embeddings** y explicar el porqué de los resultados.\n",
        "\n",
        "Pueden usarse herramientas de regularización y prueba de hiperpametros para conseguir mejores resultados.\n",
        "\n",
        "Un resultado aceptable sería al menos un 90% de accuracy y f1 score para el set de validation."
      ]
    },
    {
      "cell_type": "markdown",
      "metadata": {
        "id": "0csdYKtil1t1"
      },
      "source": [
        "### 2d) Encontrar usuarios similares (1 punto)\n",
        "Para el modelo del punto 2c) implementar una función que reciba un ID de usuario y sugiera **n** cantidad de usuarios que tuvieron un comportamiento de compras similar. También se debe mostrar el grado o porcentaje de similitud de cada usuario que retorne la función."
      ]
    }
  ],
  "metadata": {
    "accelerator": "GPU",
    "colab": {
      "gpuType": "T4",
      "provenance": []
    },
    "kernelspec": {
      "display_name": "computer-vision",
      "language": "python",
      "name": "python3"
    },
    "language_info": {
      "codemirror_mode": {
        "name": "ipython",
        "version": 3
      },
      "file_extension": ".py",
      "mimetype": "text/x-python",
      "name": "python",
      "nbconvert_exporter": "python",
      "pygments_lexer": "ipython3",
      "version": "3.9.12"
    }
  },
  "nbformat": 4,
  "nbformat_minor": 0
}
